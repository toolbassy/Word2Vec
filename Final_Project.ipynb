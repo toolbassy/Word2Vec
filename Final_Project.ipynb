{
  "nbformat": 4,
  "nbformat_minor": 0,
  "metadata": {
    "colab": {
      "name": "Final_Project.ipynb",
      "provenance": []
    },
    "kernelspec": {
      "name": "python3",
      "display_name": "Python 3"
    },
    "language_info": {
      "name": "python"
    }
  },
  "cells": [
    {
      "cell_type": "markdown",
      "source": [
        "# Reading and Exploring the Dataset"
      ],
      "metadata": {
        "id": "Aj8ktPHByyUk"
      }
    },
    {
      "cell_type": "code",
      "source": [
        "import gensim\n",
        "import pandas as pd\n",
        "\n"
      ],
      "metadata": {
        "id": "3TypWQafMWzP"
      },
      "execution_count": 1,
      "outputs": []
    },
    {
      "cell_type": "code",
      "source": [
        "df = pd.read_csv('/content/drive/MyDrive/imdb_master.csv', encoding= 'unicode_escape')"
      ],
      "metadata": {
        "id": "GKmvJQ8QMUeK"
      },
      "execution_count": 4,
      "outputs": []
    },
    {
      "cell_type": "code",
      "source": [
        "df.head()"
      ],
      "metadata": {
        "colab": {
          "base_uri": "https://localhost:8080/",
          "height": 206
        },
        "id": "Cj588C_gpA9I",
        "outputId": "e4bfc04b-a120-49c8-df07-866355d9a75f"
      },
      "execution_count": 5,
      "outputs": [
        {
          "output_type": "execute_result",
          "data": {
            "text/html": [
              "\n",
              "  <div id=\"df-007a008a-f0e7-49c4-82bf-46a1538099c8\">\n",
              "    <div class=\"colab-df-container\">\n",
              "      <div>\n",
              "<style scoped>\n",
              "    .dataframe tbody tr th:only-of-type {\n",
              "        vertical-align: middle;\n",
              "    }\n",
              "\n",
              "    .dataframe tbody tr th {\n",
              "        vertical-align: top;\n",
              "    }\n",
              "\n",
              "    .dataframe thead th {\n",
              "        text-align: right;\n",
              "    }\n",
              "</style>\n",
              "<table border=\"1\" class=\"dataframe\">\n",
              "  <thead>\n",
              "    <tr style=\"text-align: right;\">\n",
              "      <th></th>\n",
              "      <th>Unnamed: 0</th>\n",
              "      <th>type</th>\n",
              "      <th>review</th>\n",
              "      <th>label</th>\n",
              "      <th>file</th>\n",
              "    </tr>\n",
              "  </thead>\n",
              "  <tbody>\n",
              "    <tr>\n",
              "      <th>0</th>\n",
              "      <td>0</td>\n",
              "      <td>test</td>\n",
              "      <td>Once again Mr. Costner has dragged out a movie...</td>\n",
              "      <td>neg</td>\n",
              "      <td>0_2.txt</td>\n",
              "    </tr>\n",
              "    <tr>\n",
              "      <th>1</th>\n",
              "      <td>1</td>\n",
              "      <td>test</td>\n",
              "      <td>This is an example of why the majority of acti...</td>\n",
              "      <td>neg</td>\n",
              "      <td>10000_4.txt</td>\n",
              "    </tr>\n",
              "    <tr>\n",
              "      <th>2</th>\n",
              "      <td>2</td>\n",
              "      <td>test</td>\n",
              "      <td>First of all I hate those moronic rappers, who...</td>\n",
              "      <td>neg</td>\n",
              "      <td>10001_1.txt</td>\n",
              "    </tr>\n",
              "    <tr>\n",
              "      <th>3</th>\n",
              "      <td>3</td>\n",
              "      <td>test</td>\n",
              "      <td>Not even the Beatles could write songs everyon...</td>\n",
              "      <td>neg</td>\n",
              "      <td>10002_3.txt</td>\n",
              "    </tr>\n",
              "    <tr>\n",
              "      <th>4</th>\n",
              "      <td>4</td>\n",
              "      <td>test</td>\n",
              "      <td>Brass pictures (movies is not a fitting word f...</td>\n",
              "      <td>neg</td>\n",
              "      <td>10003_3.txt</td>\n",
              "    </tr>\n",
              "  </tbody>\n",
              "</table>\n",
              "</div>\n",
              "      <button class=\"colab-df-convert\" onclick=\"convertToInteractive('df-007a008a-f0e7-49c4-82bf-46a1538099c8')\"\n",
              "              title=\"Convert this dataframe to an interactive table.\"\n",
              "              style=\"display:none;\">\n",
              "        \n",
              "  <svg xmlns=\"http://www.w3.org/2000/svg\" height=\"24px\"viewBox=\"0 0 24 24\"\n",
              "       width=\"24px\">\n",
              "    <path d=\"M0 0h24v24H0V0z\" fill=\"none\"/>\n",
              "    <path d=\"M18.56 5.44l.94 2.06.94-2.06 2.06-.94-2.06-.94-.94-2.06-.94 2.06-2.06.94zm-11 1L8.5 8.5l.94-2.06 2.06-.94-2.06-.94L8.5 2.5l-.94 2.06-2.06.94zm10 10l.94 2.06.94-2.06 2.06-.94-2.06-.94-.94-2.06-.94 2.06-2.06.94z\"/><path d=\"M17.41 7.96l-1.37-1.37c-.4-.4-.92-.59-1.43-.59-.52 0-1.04.2-1.43.59L10.3 9.45l-7.72 7.72c-.78.78-.78 2.05 0 2.83L4 21.41c.39.39.9.59 1.41.59.51 0 1.02-.2 1.41-.59l7.78-7.78 2.81-2.81c.8-.78.8-2.07 0-2.86zM5.41 20L4 18.59l7.72-7.72 1.47 1.35L5.41 20z\"/>\n",
              "  </svg>\n",
              "      </button>\n",
              "      \n",
              "  <style>\n",
              "    .colab-df-container {\n",
              "      display:flex;\n",
              "      flex-wrap:wrap;\n",
              "      gap: 12px;\n",
              "    }\n",
              "\n",
              "    .colab-df-convert {\n",
              "      background-color: #E8F0FE;\n",
              "      border: none;\n",
              "      border-radius: 50%;\n",
              "      cursor: pointer;\n",
              "      display: none;\n",
              "      fill: #1967D2;\n",
              "      height: 32px;\n",
              "      padding: 0 0 0 0;\n",
              "      width: 32px;\n",
              "    }\n",
              "\n",
              "    .colab-df-convert:hover {\n",
              "      background-color: #E2EBFA;\n",
              "      box-shadow: 0px 1px 2px rgba(60, 64, 67, 0.3), 0px 1px 3px 1px rgba(60, 64, 67, 0.15);\n",
              "      fill: #174EA6;\n",
              "    }\n",
              "\n",
              "    [theme=dark] .colab-df-convert {\n",
              "      background-color: #3B4455;\n",
              "      fill: #D2E3FC;\n",
              "    }\n",
              "\n",
              "    [theme=dark] .colab-df-convert:hover {\n",
              "      background-color: #434B5C;\n",
              "      box-shadow: 0px 1px 3px 1px rgba(0, 0, 0, 0.15);\n",
              "      filter: drop-shadow(0px 1px 2px rgba(0, 0, 0, 0.3));\n",
              "      fill: #FFFFFF;\n",
              "    }\n",
              "  </style>\n",
              "\n",
              "      <script>\n",
              "        const buttonEl =\n",
              "          document.querySelector('#df-007a008a-f0e7-49c4-82bf-46a1538099c8 button.colab-df-convert');\n",
              "        buttonEl.style.display =\n",
              "          google.colab.kernel.accessAllowed ? 'block' : 'none';\n",
              "\n",
              "        async function convertToInteractive(key) {\n",
              "          const element = document.querySelector('#df-007a008a-f0e7-49c4-82bf-46a1538099c8');\n",
              "          const dataTable =\n",
              "            await google.colab.kernel.invokeFunction('convertToInteractive',\n",
              "                                                     [key], {});\n",
              "          if (!dataTable) return;\n",
              "\n",
              "          const docLinkHtml = 'Like what you see? Visit the ' +\n",
              "            '<a target=\"_blank\" href=https://colab.research.google.com/notebooks/data_table.ipynb>data table notebook</a>'\n",
              "            + ' to learn more about interactive tables.';\n",
              "          element.innerHTML = '';\n",
              "          dataTable['output_type'] = 'display_data';\n",
              "          await google.colab.output.renderOutput(dataTable, element);\n",
              "          const docLink = document.createElement('div');\n",
              "          docLink.innerHTML = docLinkHtml;\n",
              "          element.appendChild(docLink);\n",
              "        }\n",
              "      </script>\n",
              "    </div>\n",
              "  </div>\n",
              "  "
            ],
            "text/plain": [
              "   Unnamed: 0  type  ... label         file\n",
              "0           0  test  ...   neg      0_2.txt\n",
              "1           1  test  ...   neg  10000_4.txt\n",
              "2           2  test  ...   neg  10001_1.txt\n",
              "3           3  test  ...   neg  10002_3.txt\n",
              "4           4  test  ...   neg  10003_3.txt\n",
              "\n",
              "[5 rows x 5 columns]"
            ]
          },
          "metadata": {},
          "execution_count": 5
        }
      ]
    },
    {
      "cell_type": "code",
      "source": [
        "df.shape"
      ],
      "metadata": {
        "colab": {
          "base_uri": "https://localhost:8080/"
        },
        "id": "8HCmJYNHpKb1",
        "outputId": "b35d34b5-10db-4677-ca03-9bbbee37530d"
      },
      "execution_count": 6,
      "outputs": [
        {
          "output_type": "execute_result",
          "data": {
            "text/plain": [
              "(100000, 5)"
            ]
          },
          "metadata": {},
          "execution_count": 6
        }
      ]
    },
    {
      "cell_type": "code",
      "source": [
        "df.review[0]"
      ],
      "metadata": {
        "colab": {
          "base_uri": "https://localhost:8080/",
          "height": 108
        },
        "id": "AwAC90NWpOMt",
        "outputId": "5c56cc4a-f723-4bf4-99c7-df4180f47e28"
      },
      "execution_count": 7,
      "outputs": [
        {
          "output_type": "execute_result",
          "data": {
            "application/vnd.google.colaboratory.intrinsic+json": {
              "type": "string"
            },
            "text/plain": [
              "\"Once again Mr. Costner has dragged out a movie for far longer than necessary. Aside from the terrific sea rescue sequences, of which there are very few I just did not care about any of the characters. Most of us have ghosts in the closet, and Costner's character are realized early on, and then forgotten until much later, by which time I did not care. The character we should really care about is a very cocky, overconfident Ashton Kutcher. The problem is he comes off as kid who thinks he's better than anyone else around him and shows no signs of a cluttered closet. His only obstacle appears to be winning over Costner. Finally when we are well past the half way point of this stinker, Costner tells us all about Kutcher's ghosts. We are told why Kutcher is driven to be the best with no prior inkling or foreshadowing. No magic here, it was all I could do to keep from turning it off an hour in.\""
            ]
          },
          "metadata": {},
          "execution_count": 7
        }
      ]
    },
    {
      "cell_type": "markdown",
      "source": [
        "# Simple Preprocessing & Tokenization"
      ],
      "metadata": {
        "id": "cXlgvEQ4zF_r"
      }
    },
    {
      "cell_type": "code",
      "source": [
        "review = df.review.apply(gensim.utils.simple_preprocess)"
      ],
      "metadata": {
        "id": "WLjwMfywpORX"
      },
      "execution_count": 9,
      "outputs": []
    },
    {
      "cell_type": "code",
      "source": [
        "review.head(20)"
      ],
      "metadata": {
        "colab": {
          "base_uri": "https://localhost:8080/"
        },
        "id": "6ZSJFSB2pOTz",
        "outputId": "7596a489-2ff4-4419-f608-82679e12e795"
      },
      "execution_count": 10,
      "outputs": [
        {
          "output_type": "execute_result",
          "data": {
            "text/plain": [
              "0     [once, again, mr, costner, has, dragged, out, ...\n",
              "1     [this, is, an, example, of, why, the, majority...\n",
              "2     [first, of, all, hate, those, moronic, rappers...\n",
              "3     [not, even, the, beatles, could, write, songs,...\n",
              "4     [brass, pictures, movies, is, not, fitting, wo...\n",
              "5     [funny, thing, happened, to, me, while, watchi...\n",
              "6     [this, german, horror, film, has, to, be, one,...\n",
              "7     [being, long, time, fan, of, japanese, film, e...\n",
              "8     [tokyo, eyes, tells, of, year, old, japanese, ...\n",
              "9     [wealthy, horse, ranchers, in, buenos, aires, ...\n",
              "10    [cage, plays, drunk, and, gets, high, critical...\n",
              "11    [first, of, all, would, like, to, say, that, a...\n",
              "12    [so, tell, me, what, serious, boozer, drinks, ...\n",
              "13    [big, disappointment, for, what, was, touted, ...\n",
              "14    [this, film, is, absolutely, appalling, and, a...\n",
              "15    [here, decidedly, average, italian, post, apoc...\n",
              "16    [at, the, bottom, end, of, the, apocalypse, mo...\n",
              "17    [earth, has, been, destroyed, in, nuclear, hol...\n",
              "18    [many, people, are, standing, in, front, of, t...\n",
              "19    [new, york, family, is, the, last, in, their, ...\n",
              "Name: review, dtype: object"
            ]
          },
          "metadata": {},
          "execution_count": 10
        }
      ]
    },
    {
      "cell_type": "markdown",
      "source": [
        "# Training the Word2Vec Model"
      ],
      "metadata": {
        "id": "zizpssSpzQq0"
      }
    },
    {
      "cell_type": "markdown",
      "source": [
        "## Initialize the model"
      ],
      "metadata": {
        "id": "efrJmCQNzYpr"
      }
    },
    {
      "cell_type": "code",
      "source": [
        "model = gensim.models.Word2Vec(window=10, sg=1, min_count=2, workers=3 )"
      ],
      "metadata": {
        "id": "ZKqstEfrpOWl"
      },
      "execution_count": 11,
      "outputs": []
    },
    {
      "cell_type": "markdown",
      "source": [
        "## Build Vocabulary"
      ],
      "metadata": {
        "id": "Es3iHXv0zeWC"
      }
    },
    {
      "cell_type": "code",
      "source": [
        "model.build_vocab(review, progress_per=1000)"
      ],
      "metadata": {
        "id": "-E2AtqlLrho1"
      },
      "execution_count": 12,
      "outputs": []
    },
    {
      "cell_type": "code",
      "source": [
        "print(model.epochs)\n",
        "model.corpus_count"
      ],
      "metadata": {
        "colab": {
          "base_uri": "https://localhost:8080/"
        },
        "id": "xphSPqhRsVjc",
        "outputId": "c1f95d28-8bc3-4f00-beba-bffda10fad78"
      },
      "execution_count": 14,
      "outputs": [
        {
          "output_type": "stream",
          "name": "stdout",
          "text": [
            "5\n"
          ]
        },
        {
          "output_type": "execute_result",
          "data": {
            "text/plain": [
              "100000"
            ]
          },
          "metadata": {},
          "execution_count": 14
        }
      ]
    },
    {
      "cell_type": "markdown",
      "source": [
        "## Train the Word2Vec Model"
      ],
      "metadata": {
        "id": "km6S3lduzhDk"
      }
    },
    {
      "cell_type": "code",
      "source": [
        "model.train(review, total_examples=model.corpus_count, epochs=model.epochs)"
      ],
      "metadata": {
        "colab": {
          "base_uri": "https://localhost:8080/"
        },
        "id": "9Ldtf2bQr03t",
        "outputId": "6fe5a553-bdcd-4dbb-8940-b6e0bebd0dd6"
      },
      "execution_count": 15,
      "outputs": [
        {
          "output_type": "execute_result",
          "data": {
            "text/plain": [
              "(85733148, 112628105)"
            ]
          },
          "metadata": {},
          "execution_count": 15
        }
      ]
    },
    {
      "cell_type": "markdown",
      "source": [
        "## Save the Model"
      ],
      "metadata": {
        "id": "HXvuHWttzktb"
      }
    },
    {
      "cell_type": "code",
      "source": [
        "model.save('/content/drive/MyDrive/word2vec-imdb-reviews.model')"
      ],
      "metadata": {
        "id": "chGk6r45sUAH"
      },
      "execution_count": 16,
      "outputs": []
    },
    {
      "cell_type": "markdown",
      "source": [
        "# Finding Similar Words and Similarity between words"
      ],
      "metadata": {
        "id": "2RDh1b4WzmZS"
      }
    },
    {
      "cell_type": "code",
      "source": [
        "model.wv.most_similar(\"good\")"
      ],
      "metadata": {
        "colab": {
          "base_uri": "https://localhost:8080/"
        },
        "id": "gWEUY_uHxCae",
        "outputId": "bf6043b4-2643-4d0d-a861-915030d4b49a"
      },
      "execution_count": 17,
      "outputs": [
        {
          "output_type": "execute_result",
          "data": {
            "text/plain": [
              "[('decent', 0.8328449726104736),\n",
              " ('great', 0.7973397970199585),\n",
              " ('bad', 0.7820553183555603),\n",
              " ('nice', 0.7563608884811401),\n",
              " ('kamerling', 0.7506426572799683),\n",
              " ('fine', 0.7461025714874268),\n",
              " ('enoughâ', 0.7395696640014648),\n",
              " ('slughorn', 0.7383716106414795),\n",
              " ('kewl', 0.7354857325553894),\n",
              " ('alright', 0.7326892614364624)]"
            ]
          },
          "metadata": {},
          "execution_count": 17
        }
      ]
    },
    {
      "cell_type": "code",
      "source": [
        "model.wv.most_similar(\"movie\")"
      ],
      "metadata": {
        "colab": {
          "base_uri": "https://localhost:8080/"
        },
        "id": "GMFS0TpCxKdk",
        "outputId": "db5dd213-db8a-4f47-d5bd-74fc6fde200f"
      },
      "execution_count": 18,
      "outputs": [
        {
          "output_type": "execute_result",
          "data": {
            "text/plain": [
              "[('film', 0.8918426632881165),\n",
              " ('it', 0.8233982920646667),\n",
              " ('wacth', 0.7792242169380188),\n",
              " ('soooooooo', 0.7726439237594604),\n",
              " ('rubberface', 0.7683571577072144),\n",
              " ('bigtime', 0.765708327293396),\n",
              " ('this', 0.7631403207778931),\n",
              " ('strangeland', 0.7618063688278198),\n",
              " ('araf', 0.7613879442214966),\n",
              " ('woofer', 0.7599170207977295)]"
            ]
          },
          "metadata": {},
          "execution_count": 18
        }
      ]
    },
    {
      "cell_type": "code",
      "source": [
        "model.wv.similarity(w1=\"interesting\", w2=\"entertaining\")"
      ],
      "metadata": {
        "colab": {
          "base_uri": "https://localhost:8080/"
        },
        "id": "8tUNOzr9xb1d",
        "outputId": "145d523f-c1b9-4acd-a035-dbb9f88b7f08"
      },
      "execution_count": 20,
      "outputs": [
        {
          "output_type": "execute_result",
          "data": {
            "text/plain": [
              "0.7584115"
            ]
          },
          "metadata": {},
          "execution_count": 20
        }
      ]
    },
    {
      "cell_type": "code",
      "source": [
        "model.wv.similarity(w1=\"great\", w2=\"good\")"
      ],
      "metadata": {
        "colab": {
          "base_uri": "https://localhost:8080/"
        },
        "id": "Ypxq62wsxlul",
        "outputId": "ec533e46-0575-4222-ed8b-0463b2345ab0"
      },
      "execution_count": 21,
      "outputs": [
        {
          "output_type": "execute_result",
          "data": {
            "text/plain": [
              "0.79733974"
            ]
          },
          "metadata": {},
          "execution_count": 21
        }
      ]
    },
    {
      "cell_type": "code",
      "source": [
        "model.wv.most_similar(\"turkish\")"
      ],
      "metadata": {
        "colab": {
          "base_uri": "https://localhost:8080/"
        },
        "id": "88P1qmF_x0el",
        "outputId": "c23b9ae4-64db-427d-95e1-35483b9e7015"
      },
      "execution_count": 25,
      "outputs": [
        {
          "output_type": "execute_result",
          "data": {
            "text/plain": [
              "[('kurdish', 0.699918270111084),\n",
              " ('portuguese', 0.6968694925308228),\n",
              " ('romanian', 0.6819319128990173),\n",
              " ('finnish', 0.6812542676925659),\n",
              " ('maroccan', 0.6691200137138367),\n",
              " ('norwegian', 0.6661690473556519),\n",
              " ('icelandic', 0.6631709337234497),\n",
              " ('hindi', 0.6631247401237488),\n",
              " ('tamil', 0.6617501378059387),\n",
              " ('nadu', 0.6566902995109558)]"
            ]
          },
          "metadata": {},
          "execution_count": 25
        }
      ]
    },
    {
      "cell_type": "code",
      "source": [
        "model.wv.most_similar(\"russia\")"
      ],
      "metadata": {
        "colab": {
          "base_uri": "https://localhost:8080/"
        },
        "id": "q8fpiDLuyMBN",
        "outputId": "6c98af52-140a-47fb-97a4-40a27efc0882"
      },
      "execution_count": 29,
      "outputs": [
        {
          "output_type": "execute_result",
          "data": {
            "text/plain": [
              "[('germany', 0.8101766109466553),\n",
              " ('ussr', 0.7921079397201538),\n",
              " ('soviet', 0.7824720144271851),\n",
              " ('stalemate', 0.7544724345207214),\n",
              " ('europe', 0.7536591291427612),\n",
              " ('wwi', 0.7438511252403259),\n",
              " ('war', 0.7409243583679199),\n",
              " ('burma', 0.7320654392242432),\n",
              " ('provisional', 0.7285924553871155),\n",
              " ('japan', 0.7279648184776306)]"
            ]
          },
          "metadata": {},
          "execution_count": 29
        }
      ]
    },
    {
      "cell_type": "markdown",
      "source": [
        "# Predicting Most Similar Words By Formula"
      ],
      "metadata": {
        "id": "Yc1sDij34YPi"
      }
    },
    {
      "cell_type": "code",
      "source": [
        "vec = model['germany']-model['berlin']+model['paris']\n",
        "model.most_similar([vec])"
      ],
      "metadata": {
        "colab": {
          "base_uri": "https://localhost:8080/"
        },
        "id": "LQ2pr6Q-z1Sq",
        "outputId": "e3cf0792-a425-4995-9783-5b83d19f4602"
      },
      "execution_count": 48,
      "outputs": [
        {
          "output_type": "stream",
          "name": "stderr",
          "text": [
            "/usr/local/lib/python3.7/dist-packages/ipykernel_launcher.py:1: DeprecationWarning: Call to deprecated `__getitem__` (Method will be removed in 4.0.0, use self.wv.__getitem__() instead).\n",
            "  \"\"\"Entry point for launching an IPython kernel.\n",
            "/usr/local/lib/python3.7/dist-packages/ipykernel_launcher.py:2: DeprecationWarning: Call to deprecated `most_similar` (Method will be removed in 4.0.0, use self.wv.most_similar() instead).\n",
            "  \n"
          ]
        },
        {
          "output_type": "execute_result",
          "data": {
            "text/plain": [
              "[('france', 0.7103316187858582),\n",
              " ('paris', 0.6881065964698792),\n",
              " ('germany', 0.6750169992446899),\n",
              " ('italy', 0.6714487075805664),\n",
              " ('versailles', 0.65558922290802),\n",
              " ('sweden', 0.6513686180114746),\n",
              " ('coulardeau', 0.6383032202720642),\n",
              " ('europe', 0.6322596073150635),\n",
              " ('dauphine', 0.6261142492294312),\n",
              " ('sorbonne', 0.624812126159668)]"
            ]
          },
          "metadata": {},
          "execution_count": 48
        }
      ]
    },
    {
      "cell_type": "code",
      "source": [
        "vec = model['king']-model['man']+model['woman']\n",
        "model.most_similar([vec])"
      ],
      "metadata": {
        "colab": {
          "base_uri": "https://localhost:8080/"
        },
        "id": "gbrZYb6y2V1M",
        "outputId": "c9e6b178-b211-46eb-e0ef-79717572758f"
      },
      "execution_count": 57,
      "outputs": [
        {
          "output_type": "stream",
          "name": "stderr",
          "text": [
            "/usr/local/lib/python3.7/dist-packages/ipykernel_launcher.py:1: DeprecationWarning: Call to deprecated `__getitem__` (Method will be removed in 4.0.0, use self.wv.__getitem__() instead).\n",
            "  \"\"\"Entry point for launching an IPython kernel.\n",
            "/usr/local/lib/python3.7/dist-packages/ipykernel_launcher.py:2: DeprecationWarning: Call to deprecated `most_similar` (Method will be removed in 4.0.0, use self.wv.most_similar() instead).\n",
            "  \n"
          ]
        },
        {
          "output_type": "execute_result",
          "data": {
            "text/plain": [
              "[('king', 0.8320334553718567),\n",
              " ('queen', 0.7343441843986511),\n",
              " ('commoner', 0.7126818299293518),\n",
              " ('throne', 0.6929643154144287),\n",
              " ('siam', 0.6880964636802673),\n",
              " ('princess', 0.6842044591903687),\n",
              " ('prince', 0.6832098960876465),\n",
              " ('duchess', 0.6654337048530579),\n",
              " ('sheeba', 0.6621639728546143),\n",
              " ('pocahontas', 0.6585195660591125)]"
            ]
          },
          "metadata": {},
          "execution_count": 57
        }
      ]
    },
    {
      "cell_type": "code",
      "source": [
        "vec = model['brad']-model['pitt']+model['depp']\n",
        "model.most_similar([vec])"
      ],
      "metadata": {
        "colab": {
          "base_uri": "https://localhost:8080/"
        },
        "id": "YMuI42Ds34bK",
        "outputId": "e6d74e76-991f-436e-b2c7-e8dd8745a60f"
      },
      "execution_count": 62,
      "outputs": [
        {
          "output_type": "stream",
          "name": "stderr",
          "text": [
            "/usr/local/lib/python3.7/dist-packages/ipykernel_launcher.py:1: DeprecationWarning: Call to deprecated `__getitem__` (Method will be removed in 4.0.0, use self.wv.__getitem__() instead).\n",
            "  \"\"\"Entry point for launching an IPython kernel.\n",
            "/usr/local/lib/python3.7/dist-packages/ipykernel_launcher.py:2: DeprecationWarning: Call to deprecated `most_similar` (Method will be removed in 4.0.0, use self.wv.most_similar() instead).\n",
            "  \n"
          ]
        },
        {
          "output_type": "execute_result",
          "data": {
            "text/plain": [
              "[('depp', 0.8992573022842407),\n",
              " ('johnny', 0.6501017212867737),\n",
              " ('pearlman', 0.6361733078956604),\n",
              " ('rosanne', 0.6116749048233032),\n",
              " ('isaak', 0.6100541353225708),\n",
              " ('springsteen', 0.6037607789039612),\n",
              " ('biggs', 0.6005544066429138),\n",
              " ('hynde', 0.6003480553627014),\n",
              " ('doqui', 0.5973516702651978),\n",
              " ('quade', 0.5951790809631348)]"
            ]
          },
          "metadata": {},
          "execution_count": 62
        }
      ]
    }
  ]
}